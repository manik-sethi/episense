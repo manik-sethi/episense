{
 "cells": [
  {
   "cell_type": "markdown",
   "metadata": {},
   "source": [
    "# Imports"
   ]
  },
  {
   "cell_type": "code",
   "execution_count": 1,
   "metadata": {},
   "outputs": [],
   "source": [
    "import glob, os\n",
    "import numpy as np\n",
    "import pandas as pd\n",
    "import matplotlib.pyplot as plt\n",
    "import yaml\n",
    "import mne\n",
    "from mne.io import concatenate_raws, read_raw_edf\n",
    "from mne import Epochs\n",
    "from mne.decoding import Scaler\n",
    "from scipy import signal\n",
    "from scipy.signal import butter, lfilter\n",
    "from scipy.signal import ShortTimeFFT\n",
    "from extraction import extract_interictal_preictal\n",
    "from pipeline import Pipeline\n",
    "import torch\n",
    "from torch.utils.data import TensorDataset, DataLoader, random_split, Dataset\n",
    "import pickle"
   ]
  },
  {
   "cell_type": "markdown",
   "metadata": {},
   "source": [
    "# Load in Data"
   ]
  },
  {
   "cell_type": "code",
   "execution_count": 10,
   "metadata": {},
   "outputs": [
    {
     "name": "stdout",
     "output_type": "stream",
     "text": [
      "Loaded: (1601, 22, 1471) (1601,)\n"
     ]
    }
   ],
   "source": [
    "pkl_file = os.path.join(\"processed_data\", \"final_data.pkl\")\n",
    "with open(pkl_file, \"rb\") as f:\n",
    "    data = pickle.load(f)\n",
    "\n",
    "X = data[\"X\"]          # shape (N, 22, 1471)\n",
    "y = data[\"y\"]          # shape (N,)\n",
    "\n",
    "print(\"Loaded:\", X.shape, y.shape)\n",
    "\n",
    "X = torch.tensor(X)\n",
    "y = torch.tensor(y)\n",
    "\n",
    "dataset = TensorDataset(X, y)\n",
    "\n",
    "train_size = int(0.8 * len(dataset))\n",
    "test_size = len(dataset) - train_size\n",
    "train_data, test_data = random_split(dataset, [train_size, test_size])"
   ]
  },
  {
   "cell_type": "markdown",
   "metadata": {},
   "source": [
    "# Creating tensors for ML"
   ]
  },
  {
   "cell_type": "code",
   "execution_count": 16,
   "metadata": {},
   "outputs": [],
   "source": [
    "dataset = TensorDataset(X, y)"
   ]
  },
  {
   "cell_type": "code",
   "execution_count": 22,
   "metadata": {},
   "outputs": [],
   "source": [
    "train_size = int(0.8 * len(dataset))\n",
    "test_size = len(dataset) - train_size\n",
    "train_data, test_data = random_split(dataset, [train_size, test_size])"
   ]
  },
  {
   "cell_type": "code",
   "execution_count": 25,
   "metadata": {},
   "outputs": [
    {
     "data": {
      "text/plain": [
       "<torch.utils.data.dataset.Subset at 0x74a28279e1d0>"
      ]
     },
     "execution_count": 25,
     "metadata": {},
     "output_type": "execute_result"
    }
   ],
   "source": []
  },
  {
   "cell_type": "markdown",
   "metadata": {},
   "source": [
    "# Pickling the data"
   ]
  },
  {
   "cell_type": "code",
   "execution_count": 48,
   "metadata": {},
   "outputs": [],
   "source": [
    "import pickle\n",
    "\n",
    "# Define file names\n",
    "dataset_file = \"dataset.pkl\"\n",
    "\n",
    "\n",
    "# Save the preictal and interictal data\n",
    "with open(dataset_file, \"wb\") as f:\n",
    "    pickle.dump(dataset, f)\n",
    "\n"
   ]
  },
  {
   "cell_type": "markdown",
   "metadata": {},
   "source": []
  },
  {
   "cell_type": "code",
   "execution_count": 56,
   "metadata": {},
   "outputs": [
    {
     "name": "stdout",
     "output_type": "stream",
     "text": [
      "Batch images shape: torch.Size([10, 3, 32, 32]) Batch labels shape: torch.Size([10])\n",
      "Dataset saved as random_dataset.pt\n"
     ]
    }
   ],
   "source": [
    "\n",
    "class RandomDataset(Dataset):\n",
    "    def __init__(self, num_samples=100, channels=3, height=32, width=32, num_classes=10):\n",
    "        self.num_samples = num_samples\n",
    "        # Generate random image data (e.g., resembling 32x32 RGB images)\n",
    "        self.data = tf.randn(num_samples, channels, height, width)\n",
    "        # Generate random labels between 0 and num_classes-1\n",
    "        self.labels = tf.randint(0, num_classes, (num_samples,))\n",
    "    \n",
    "    def __len__(self):\n",
    "        return self.num_samples\n",
    "    \n",
    "    def __getitem__(self, idx):\n",
    "        return self.data[idx], self.labels[idx]\n",
    "\n",
    "# Create the dataset and optionally inspect one batch\n",
    "dataset = RandomDataset(num_samples=100)\n",
    "loader = DataLoader(dataset, batch_size=10, shuffle=True)\n",
    "\n",
    "# Print the shape of one batch as a quick test\n",
    "for images, labels in loader:\n",
    "    print(\"Batch images shape:\", images.shape, \"Batch labels shape:\", labels.shape)\n",
    "    break\n",
    "\n",
    "# Save the dataset to disk using torch.save\n",
    "dataset_filename = \"random_dataset.pt\"\n",
    "tf.save(dataset, dataset_filename)\n",
    "print(f\"Dataset saved as {dataset_filename}\")"
   ]
  },
  {
   "cell_type": "code",
   "execution_count": null,
   "metadata": {},
   "outputs": [],
   "source": []
  }
 ],
 "metadata": {
  "kernelspec": {
   "display_name": "venv",
   "language": "python",
   "name": "python3"
  },
  "language_info": {
   "codemirror_mode": {
    "name": "ipython",
    "version": 3
   },
   "file_extension": ".py",
   "mimetype": "text/x-python",
   "name": "python",
   "nbconvert_exporter": "python",
   "pygments_lexer": "ipython3",
   "version": "3.11.11"
  },
  "orig_nbformat": 4
 },
 "nbformat": 4,
 "nbformat_minor": 2
}
